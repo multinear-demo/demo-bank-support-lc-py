{
 "cells": [
  {
   "cell_type": "code",
   "execution_count": 1,
   "id": "a3d37ad9-879e-496c-83f6-36a1f9cb1eb0",
   "metadata": {},
   "outputs": [
    {
     "name": "stdout",
     "output_type": "stream",
     "text": [
      "- loaded bank docs\n",
      "- created bank index\n"
     ]
    },
    {
     "data": {
      "text/plain": [
       "{'question': 'How do I unblock my credit card?',\n",
       " 'chat_history': [],\n",
       " 'answer': \"To unblock your credit card, follow these steps:\\n\\n1. **Access Online Banking**: Log in securely to your online banking account.\\n2. **Navigate to the Accounts Overview**: Click on the credit card that you need to unblock.\\n3. **Under 'Manage Your Card,' Select 'Block/Unblock'**: Follow the pop-up instructions for confirmation.\\n4. **Proceed with Changes**: Confirm to unblock the card immediately.\\n\\nIf online banking isn’t available, you can visit a branch or contact support for assistance.\",\n",
       " 'source_documents': [Document(metadata={'source': './data/acme_bank_faq.txt'}, page_content=\"Visit a branch or contact support if online banking isn’t available.\\n\\n**Blocking or Unblocking a Credit Card**\\n\\nTo block/unblock a credit card:\\n\\n1. **Access Online Banking**: Log in securely.\\n2. **Navigate to the Accounts Overview**: Click on the credit card needing modifications.\\n3. **Under 'Manage Your Card,' Select 'Block/Unblock'**: Follow the pop-up instructions for confirmation.\\n4. **Proceed with Changes**: Confirm to either block or unblock the card immediately.\\n\\nRemember, blocking prevents new transactions, though it can be undone at any time.\\n\\n**Ordering or Replacing Visa Debit and Debit Cards**\\n\\nTo order or replace cards:\"),\n",
       "  Document(metadata={'source': './data/acme_bank_faq.txt'}, page_content=\"## Cards\\n\\n**Activating a Credit Card**\\n\\nTo activate your credit card:\\n\\n**For Cards with Existing PINs**\\n\\n1. **Visit Online Banking/ App**: Log in using your credentials.\\n2. **Select Credit Card**: Find it under the accounts section.\\n3. **Locate 'Additional Options**: Under 'Card Status,' select ‘Activate your Card.'\\n4. **In-Store Activation**: As an alternative, insert your card in-store and enter your current PIN to activate.\\n\\n**For New Cards or Those Without a PIN**\\n\\n1. **Log into Online Banking/ App**: Enter credentials and head to 'Cards.'\\n2. **Select 'Set/Change PIN'**: Enter and reconfirm a new PIN.\\n3. **Activate Without a PIN**: Choose activation while opting to sign for payments initially, if preferred.\\n\\nVisit a branch or contact support if online banking isn’t available.\\n\\n**Blocking or Unblocking a Credit Card**\\n\\nTo block/unblock a credit card:\"),\n",
       "  Document(metadata={'source': './data/acme_bank_faq.txt'}, page_content=\"Remember, blocking prevents new transactions, though it can be undone at any time.\\n\\n**Ordering or Replacing Visa Debit and Debit Cards**\\n\\nTo order or replace cards:\\n\\n1. **Log into Online Banking**: Or use our mobile app.\\n2. **Select 'Apply & Open'**: Choose the 'Cards' option.\\n3. **Choose Card Type**: Opt for either Visa Debit or traditional debit cards.\\n4. **Enter Required Details**: Create a new PIN and link desired accounts (up to two).\\n5. **Confirm Information and Submit**: Ensure your postal address is up-to-date to receive your card within 1–2 weeks.\\n\\nFor urgent needs, visit the nearest branch.\\n\\n**Cancelling Visa Debit and Debit Cards**\\n\\nTo cancel cards effectively:\\n\\n1. **Log into Online Banking**: Use secure credentials.\\n2. **Head to Settings**: Locate 'Cancel a Card' midway through the page.\\n3. **Select and Cancel**: Choose the correct card and confirm cancellation.\\n\\nThis process avoids errors, ensuring accurate processing.\\n\\n**Setting or Changing a Card PIN**\")]}"
      ]
     },
     "execution_count": 1,
     "metadata": {},
     "output_type": "execute_result"
    }
   ],
   "source": [
    "from langchain_community.document_loaders import TextLoader\n",
    "from langchain.text_splitter import RecursiveCharacterTextSplitter\n",
    "from langchain_community.vectorstores import FAISS\n",
    "from langchain_openai import OpenAIEmbeddings, ChatOpenAI\n",
    "from langchain.chains import ConversationalRetrievalChain\n",
    "from langchain.prompts import PromptTemplate\n",
    "\n",
    "from dotenv import load_dotenv\n",
    "load_dotenv()\n",
    "\n",
    "embeddings = OpenAIEmbeddings()\n",
    "llm = ChatOpenAI(model=\"gpt-4o\", temperature=0.2)\n",
    "\n",
    "loader = TextLoader(\"./data/acme_bank_faq.txt\")\n",
    "documents = loader.load()\n",
    "text_splitter = RecursiveCharacterTextSplitter(\n",
    "    chunk_size=1000,\n",
    "    chunk_overlap=200\n",
    ")\n",
    "splits = text_splitter.split_documents(documents)\n",
    "print(\"- loaded bank docs\")\n",
    "vector_store = FAISS.from_documents(splits, embeddings)\n",
    "print(\"- created bank index\")\n",
    "\n",
    "qa_chain = ConversationalRetrievalChain.from_llm(\n",
    "    llm=llm,\n",
    "    retriever=vector_store.as_retriever(\n",
    "        search_kwargs={\"k\": 3}\n",
    "    ),\n",
    "    return_source_documents=True,\n",
    "    verbose=False\n",
    ")\n",
    "result = qa_chain.invoke({\n",
    "    \"question\": \"How do I unblock my credit card?\",\n",
    "    \"chat_history\": []\n",
    "})\n",
    "print(result[\"answer\"])"
   ]
  },
  {
   "cell_type": "code",
   "execution_count": null,
   "id": "61f9f3f1-fb36-4bc0-9414-be5512e85b59",
   "metadata": {},
   "outputs": [],
   "source": []
  }
 ],
 "metadata": {
  "kernelspec": {
   "display_name": "Python 3 (ipykernel)",
   "language": "python",
   "name": "python3"
  },
  "language_info": {
   "codemirror_mode": {
    "name": "ipython",
    "version": 3
   },
   "file_extension": ".py",
   "mimetype": "text/x-python",
   "name": "python",
   "nbconvert_exporter": "python",
   "pygments_lexer": "ipython3",
   "version": "3.12.6"
  }
 },
 "nbformat": 4,
 "nbformat_minor": 5
}
